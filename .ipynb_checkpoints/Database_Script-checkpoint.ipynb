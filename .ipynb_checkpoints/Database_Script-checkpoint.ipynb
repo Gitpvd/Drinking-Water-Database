{
 "cells": [
  {
   "cell_type": "code",
   "execution_count": 296,
   "metadata": {},
   "outputs": [],
   "source": [
    "#declare dependencis\n",
    " \n",
    "from flask_pymongo import PyMongo\n",
    "import pandas as pd\n",
    "import datetime\n",
    "import pprint as pp\n",
    "import pymongo\n",
    "# Import Scrape libraries\n",
    "import requests\n",
    "import urllib.request\n",
    "import time\n",
    "from splinter import Browser\n",
    "from bs4 import BeautifulSoup as bs\n",
    "from urllib.parse import urljoin\n",
    "import itertools"
   ]
  },
  {
   "cell_type": "markdown",
   "metadata": {},
   "source": [
    "## Definitions "
   ]
  },
  {
   "cell_type": "code",
   "execution_count": 297,
   "metadata": {},
   "outputs": [],
   "source": [
    "def getridoftoprow(df):\n",
    "    '''Nifty routine to drop top row of double headed table'''\n",
    "    dft=df.T \n",
    "    dft=dft.drop(dft.columns[[0]], axis=1)\n",
    "    df=dft.T\n",
    "    return df\n",
    "\n",
    "def geturlresponse(url):\n",
    "    '''Get time out, used more than once'''\n",
    "    #This will get a response within ten seconds or just move on to the next table\n",
    "    try:\n",
    "        response= requests.get(url, timeout=10 )\n",
    "    except requests.exceptions.Timeout:\n",
    "        pass   \n",
    "    return response"
   ]
  },
  {
   "cell_type": "markdown",
   "metadata": {},
   "source": [
    "# Initialize the Database with Mongo, "
   ]
  },
  {
   "cell_type": "code",
   "execution_count": 298,
   "metadata": {},
   "outputs": [],
   "source": [
    "\n",
    "\n",
    "conn = 'mongodb://localhost:27017'\n",
    "client = pymongo.MongoClient(conn)\n",
    "# declare database\n",
    "db = client.water_db  # implicitly declared mars DB\n",
    "collection = db.water_db\n"
   ]
  },
  {
   "cell_type": "markdown",
   "metadata": {},
   "source": [
    "## I decided to not use the chromedriver as it is problematic and slowish, and not necessary for this task"
   ]
  },
  {
   "cell_type": "code",
   "execution_count": 299,
   "metadata": {},
   "outputs": [],
   "source": [
    "#executable path to driver\n",
    "# executable_path = {'executable_path': 'chromedriver.exe'}\n",
    "# browser = Browser('chrome', **executable_path, headless=False)\n",
    "\n",
    "#Chromedriver really kinds of sucks, it is slow"
   ]
  },
  {
   "cell_type": "markdown",
   "metadata": {},
   "source": [
    "### This is the EPA table for recommened levels of a list of chemicals for Aquatic Life, not drinking water.  So this is about the fish."
   ]
  },
  {
   "cell_type": "code",
   "execution_count": 300,
   "metadata": {},
   "outputs": [
    {
     "data": {
      "text/plain": [
       "<Response [200]>"
      ]
     },
     "execution_count": 300,
     "metadata": {},
     "output_type": "execute_result"
    }
   ],
   "source": [
    "epa_url = 'https://www.epa.gov/wqc/national-recommended-water-quality-criteria-aquatic-life-criteria-table'\n",
    "#browser.visit(epa_url)  #not using this, it will open up Chrome to the selected web page \n",
    "\n",
    "#This will get a response within ten seconds or just move on to the next table\n",
    "#If it returns 200 worko!\n",
    "geturlresponse(epa_url)"
   ]
  },
  {
   "cell_type": "markdown",
   "metadata": {},
   "source": [
    "## This table shows pollutant levels and has a concatenated CAS number, the definitive identifier of chemicals.  There is a list of over eight hundred thousand maintained by the EPA.  Chemicals are often referred to by different names so it was imperative to have a unique identifier that chemists use.  The CAS number, as represented here is not properly stuctured, but we can still use it.\n"
   ]
  },
  {
   "cell_type": "code",
   "execution_count": 301,
   "metadata": {},
   "outputs": [
    {
     "data": {
      "text/html": [
       "<div>\n",
       "<style scoped>\n",
       "    .dataframe tbody tr th:only-of-type {\n",
       "        vertical-align: middle;\n",
       "    }\n",
       "\n",
       "    .dataframe tbody tr th {\n",
       "        vertical-align: top;\n",
       "    }\n",
       "\n",
       "    .dataframe thead th {\n",
       "        text-align: right;\n",
       "    }\n",
       "</style>\n",
       "<table border=\"1\" class=\"dataframe\">\n",
       "  <thead>\n",
       "    <tr style=\"text-align: right;\">\n",
       "      <th></th>\n",
       "      <th>Pollutant  (P = Priority Pollutant)</th>\n",
       "      <th>CAS Number</th>\n",
       "      <th>Freshwater CMC1  (acute)  (µg/L)</th>\n",
       "      <th>Freshwater CCC2  (chronic)  (µg/L)</th>\n",
       "      <th>Saltwater CMC1  (acute)  (µg/L)</th>\n",
       "      <th>Saltwater CCC2  (chronic)  (µg/L)</th>\n",
       "      <th>Publication Year</th>\n",
       "      <th>Notes</th>\n",
       "    </tr>\n",
       "  </thead>\n",
       "  <tbody>\n",
       "    <tr>\n",
       "      <th>1</th>\n",
       "      <td>Aesthetic Qualities</td>\n",
       "      <td>—</td>\n",
       "      <td>—</td>\n",
       "      <td>—</td>\n",
       "      <td>—</td>\n",
       "      <td>—</td>\n",
       "      <td>1986</td>\n",
       "      <td>See Quality Criteria for Water, 1986 (\"Gold Bo...</td>\n",
       "    </tr>\n",
       "    <tr>\n",
       "      <th>2</th>\n",
       "      <td>Aldrin (P)</td>\n",
       "      <td>309002</td>\n",
       "      <td>3.0</td>\n",
       "      <td>—</td>\n",
       "      <td>1.3</td>\n",
       "      <td>—</td>\n",
       "      <td>1980</td>\n",
       "      <td>These criteria are based on the 1980 criteria ...</td>\n",
       "    </tr>\n",
       "    <tr>\n",
       "      <th>3</th>\n",
       "      <td>Alkalinity</td>\n",
       "      <td>—</td>\n",
       "      <td>—</td>\n",
       "      <td>20000</td>\n",
       "      <td>—</td>\n",
       "      <td>—</td>\n",
       "      <td>1986</td>\n",
       "      <td>The CCC of 20mg/L is a minimum value except wh...</td>\n",
       "    </tr>\n",
       "    <tr>\n",
       "      <th>4</th>\n",
       "      <td>alpha-Endosulfan (P)</td>\n",
       "      <td>959988</td>\n",
       "      <td>0.22</td>\n",
       "      <td>0.056</td>\n",
       "      <td>0.034</td>\n",
       "      <td>0.0087</td>\n",
       "      <td>1980</td>\n",
       "      <td>These criteria are based on the 1980 criteria ...</td>\n",
       "    </tr>\n",
       "    <tr>\n",
       "      <th>5</th>\n",
       "      <td>Aluminum pH 5.0 - 10.5</td>\n",
       "      <td>7429905</td>\n",
       "      <td>--</td>\n",
       "      <td>--</td>\n",
       "      <td>—</td>\n",
       "      <td>—</td>\n",
       "      <td>2018</td>\n",
       "      <td>The criteria is based on the water chemistry d...</td>\n",
       "    </tr>\n",
       "  </tbody>\n",
       "</table>\n",
       "</div>"
      ],
      "text/plain": [
       "  Pollutant  (P = Priority Pollutant) CAS Number  \\\n",
       "1                 Aesthetic Qualities          —   \n",
       "2                          Aldrin (P)     309002   \n",
       "3                          Alkalinity          —   \n",
       "4                alpha-Endosulfan (P)     959988   \n",
       "5              Aluminum pH 5.0 - 10.5    7429905   \n",
       "\n",
       "  Freshwater CMC1  (acute)  (µg/L) Freshwater CCC2  (chronic)  (µg/L)  \\\n",
       "1                                —                                  —   \n",
       "2                              3.0                                  —   \n",
       "3                                —                              20000   \n",
       "4                             0.22                              0.056   \n",
       "5                               --                                 --   \n",
       "\n",
       "  Saltwater CMC1  (acute)  (µg/L) Saltwater CCC2  (chronic)  (µg/L)  \\\n",
       "1                               —                                 —   \n",
       "2                             1.3                                 —   \n",
       "3                               —                                 —   \n",
       "4                           0.034                            0.0087   \n",
       "5                               —                                 —   \n",
       "\n",
       "  Publication Year                                              Notes  \n",
       "1             1986  See Quality Criteria for Water, 1986 (\"Gold Bo...  \n",
       "2             1980  These criteria are based on the 1980 criteria ...  \n",
       "3             1986  The CCC of 20mg/L is a minimum value except wh...  \n",
       "4             1980  These criteria are based on the 1980 criteria ...  \n",
       "5             2018  The criteria is based on the water chemistry d...  "
      ]
     },
     "execution_count": 301,
     "metadata": {},
     "output_type": "execute_result"
    }
   ],
   "source": [
    "\n",
    "#Use Pandas to read all the tables on the page.  \n",
    "epa_tables = pd.read_html(epa_url) \n",
    "getridoftoprow(epa_tables[0]).head()\n",
    "#df_1.head()"
   ]
  },
  {
   "cell_type": "code",
   "execution_count": 302,
   "metadata": {},
   "outputs": [
    {
     "data": {
      "text/plain": [
       "<Response [200]>"
      ]
     },
     "execution_count": 302,
     "metadata": {},
     "output_type": "execute_result"
    }
   ],
   "source": [
    "human_health = 'https://www.epa.gov/wqc/national-recommended-water-quality-criteria-human-health-criteria-table'\n",
    "#browser.visit(human_health)\n",
    "geturlresponse(human_health)"
   ]
  },
  {
   "cell_type": "code",
   "execution_count": 303,
   "metadata": {},
   "outputs": [
    {
     "data": {
      "text/html": [
       "<div>\n",
       "<style scoped>\n",
       "    .dataframe tbody tr th:only-of-type {\n",
       "        vertical-align: middle;\n",
       "    }\n",
       "\n",
       "    .dataframe tbody tr th {\n",
       "        vertical-align: top;\n",
       "    }\n",
       "\n",
       "    .dataframe thead th {\n",
       "        text-align: right;\n",
       "    }\n",
       "</style>\n",
       "<table border=\"1\" class=\"dataframe\">\n",
       "  <thead>\n",
       "    <tr style=\"text-align: right;\">\n",
       "      <th></th>\n",
       "      <th>Pollutant</th>\n",
       "      <th>CAS</th>\n",
       "      <th>Human Health for the consumption of Water + Organism (µg/L)</th>\n",
       "      <th>Human Health for the consumption of Organism Only (µg/L)</th>\n",
       "      <th>Publication Year</th>\n",
       "      <th>Notes</th>\n",
       "      <th>Usage</th>\n",
       "    </tr>\n",
       "  </thead>\n",
       "  <tbody>\n",
       "    <tr>\n",
       "      <th>1</th>\n",
       "      <td>Acrolein (P)</td>\n",
       "      <td>107028</td>\n",
       "      <td>3</td>\n",
       "      <td>400</td>\n",
       "      <td>2015</td>\n",
       "      <td>NaN</td>\n",
       "      <td>Water Testing</td>\n",
       "    </tr>\n",
       "    <tr>\n",
       "      <th>2</th>\n",
       "      <td>Acrylonitrile (P)</td>\n",
       "      <td>107131</td>\n",
       "      <td>0.061</td>\n",
       "      <td>7.0</td>\n",
       "      <td>2015</td>\n",
       "      <td>This criterion is based on carcinogenicity of ...</td>\n",
       "      <td>Water Testing</td>\n",
       "    </tr>\n",
       "    <tr>\n",
       "      <th>3</th>\n",
       "      <td>Aldrin (P)</td>\n",
       "      <td>309002</td>\n",
       "      <td>0.00000077</td>\n",
       "      <td>0.00000077</td>\n",
       "      <td>2015</td>\n",
       "      <td>This criterion is based on carcinogenicity of ...</td>\n",
       "      <td>Water Testing</td>\n",
       "    </tr>\n",
       "    <tr>\n",
       "      <th>4</th>\n",
       "      <td>alpha-Hexachlorocyclohexane (HCH) (P)</td>\n",
       "      <td>319846</td>\n",
       "      <td>0.00036</td>\n",
       "      <td>0.00039</td>\n",
       "      <td>2015</td>\n",
       "      <td>This criterion is based on carcinogenicity of ...</td>\n",
       "      <td>Water Testing</td>\n",
       "    </tr>\n",
       "    <tr>\n",
       "      <th>5</th>\n",
       "      <td>alpha-Endosulfan (P)</td>\n",
       "      <td>959988</td>\n",
       "      <td>20</td>\n",
       "      <td>30</td>\n",
       "      <td>2015</td>\n",
       "      <td>NaN</td>\n",
       "      <td>Water Testing</td>\n",
       "    </tr>\n",
       "  </tbody>\n",
       "</table>\n",
       "</div>"
      ],
      "text/plain": [
       "                               Pollutant     CAS  \\\n",
       "1                           Acrolein (P)  107028   \n",
       "2                      Acrylonitrile (P)  107131   \n",
       "3                             Aldrin (P)  309002   \n",
       "4  alpha-Hexachlorocyclohexane (HCH) (P)  319846   \n",
       "5                   alpha-Endosulfan (P)  959988   \n",
       "\n",
       "  Human Health for the consumption of Water + Organism (µg/L)  \\\n",
       "1                                                  3            \n",
       "2                                              0.061            \n",
       "3                                         0.00000077            \n",
       "4                                            0.00036            \n",
       "5                                                 20            \n",
       "\n",
       "  Human Health for the consumption of Organism Only (µg/L) Publication Year  \\\n",
       "1                                                400                   2015   \n",
       "2                                                7.0                   2015   \n",
       "3                                         0.00000077                   2015   \n",
       "4                                            0.00039                   2015   \n",
       "5                                                 30                   2015   \n",
       "\n",
       "                                               Notes          Usage  \n",
       "1                                                NaN  Water Testing  \n",
       "2  This criterion is based on carcinogenicity of ...  Water Testing  \n",
       "3  This criterion is based on carcinogenicity of ...  Water Testing  \n",
       "4  This criterion is based on carcinogenicity of ...  Water Testing  \n",
       "5                                                NaN  Water Testing  "
      ]
     },
     "execution_count": 303,
     "metadata": {},
     "output_type": "execute_result"
    }
   ],
   "source": [
    "human_health_df = pd.read_html(human_health)\n",
    "\n",
    " \n",
    "human_health_df= getridoftoprow(human_health_df[0]) \n",
    "human_health_df.loc[:,'Usage']='Water Testing' # add a new column\n",
    "human_health_df.columns=['Pollutant','CAS','Human Health for the consumption of Water + Organism (µg/L)','Human Health for the consumption of Organism Only (µg/L)','Publication Year','Notes','Usage']\n",
    " \n",
    "human_health_df.head()"
   ]
  },
  {
   "cell_type": "markdown",
   "metadata": {},
   "source": [
    "## Frac list of chemicals, identified by CAS number in a padded form with leading zeros.  This is almost certainly the best way to represent CAS numbers, but we are going to undo it with Pandas so that it has the same format as the Water Pollutant table ."
   ]
  },
  {
   "cell_type": "code",
   "execution_count": 304,
   "metadata": {},
   "outputs": [
    {
     "data": {
      "text/plain": [
       "<Response [200]>"
      ]
     },
     "execution_count": 304,
     "metadata": {},
     "output_type": "execute_result"
    }
   ],
   "source": [
    "frac = 'https://fracfocus.org/chemical-use/what-chemicals-are-used'\n",
    "geturlresponse(frac)"
   ]
  },
  {
   "cell_type": "code",
   "execution_count": 305,
   "metadata": {},
   "outputs": [
    {
     "data": {
      "text/html": [
       "<div>\n",
       "<style scoped>\n",
       "    .dataframe tbody tr th:only-of-type {\n",
       "        vertical-align: middle;\n",
       "    }\n",
       "\n",
       "    .dataframe tbody tr th {\n",
       "        vertical-align: top;\n",
       "    }\n",
       "\n",
       "    .dataframe thead th {\n",
       "        text-align: right;\n",
       "    }\n",
       "</style>\n",
       "<table border=\"1\" class=\"dataframe\">\n",
       "  <thead>\n",
       "    <tr style=\"text-align: right;\">\n",
       "      <th></th>\n",
       "      <th>Chemical  Name</th>\n",
       "      <th>CAS</th>\n",
       "      <th>Chemical  Purpose</th>\n",
       "      <th>Product Function</th>\n",
       "    </tr>\n",
       "  </thead>\n",
       "  <tbody>\n",
       "    <tr>\n",
       "      <th>1</th>\n",
       "      <td>Hydrochloric Acid</td>\n",
       "      <td>007647-01-0</td>\n",
       "      <td>Helps  dissolve minerals and initiate cracks i...</td>\n",
       "      <td>Acid</td>\n",
       "    </tr>\n",
       "    <tr>\n",
       "      <th>3</th>\n",
       "      <td>Glutaraldehyde</td>\n",
       "      <td>000111-30-8</td>\n",
       "      <td>Eliminates  bacteria in the water that produce...</td>\n",
       "      <td>Biocide</td>\n",
       "    </tr>\n",
       "    <tr>\n",
       "      <th>4</th>\n",
       "      <td>Quaternary Ammonium Chloride</td>\n",
       "      <td>012125-02-9</td>\n",
       "      <td>Eliminates  bacteria in the water that produce...</td>\n",
       "      <td>Biocide</td>\n",
       "    </tr>\n",
       "    <tr>\n",
       "      <th>5</th>\n",
       "      <td>Quaternary Ammonium Chloride</td>\n",
       "      <td>061789-71-1</td>\n",
       "      <td>Eliminates  bacteria in the water that produce...</td>\n",
       "      <td>Biocide</td>\n",
       "    </tr>\n",
       "    <tr>\n",
       "      <th>6</th>\n",
       "      <td>Tetrakis Hydroxymethyl-Phosphonium Sulfate</td>\n",
       "      <td>055566-30-8</td>\n",
       "      <td>Eliminates  bacteria in the water that produce...</td>\n",
       "      <td>Biocide</td>\n",
       "    </tr>\n",
       "  </tbody>\n",
       "</table>\n",
       "</div>"
      ],
      "text/plain": [
       "0                              Chemical  Name          CAS  \\\n",
       "1                           Hydrochloric Acid  007647-01-0   \n",
       "3                              Glutaraldehyde  000111-30-8   \n",
       "4                Quaternary Ammonium Chloride  012125-02-9   \n",
       "5                Quaternary Ammonium Chloride  061789-71-1   \n",
       "6  Tetrakis Hydroxymethyl-Phosphonium Sulfate  055566-30-8   \n",
       "\n",
       "0                                  Chemical  Purpose Product Function  \n",
       "1  Helps  dissolve minerals and initiate cracks i...             Acid  \n",
       "3  Eliminates  bacteria in the water that produce...          Biocide  \n",
       "4  Eliminates  bacteria in the water that produce...          Biocide  \n",
       "5  Eliminates  bacteria in the water that produce...          Biocide  \n",
       "6  Eliminates  bacteria in the water that produce...          Biocide  "
      ]
     },
     "execution_count": 305,
     "metadata": {},
     "output_type": "execute_result"
    }
   ],
   "source": [
    "frac_df = pd.read_html(frac)\n",
    "hydraulic = frac_df[0]\n",
    "hydraulic.columns = hydraulic.iloc[0]\n",
    "hydraulic = getridoftoprow(hydraulic)\n",
    "hydraulic_pure = hydraulic.dropna()\n",
    "\n",
    "hydraulic_pure.head()"
   ]
  },
  {
   "cell_type": "markdown",
   "metadata": {},
   "source": [
    "## This table is processed and then a new Column with a massaged CAS number is generated. Also, an additional columns is added in, Usage.  "
   ]
  },
  {
   "cell_type": "code",
   "execution_count": 306,
   "metadata": {},
   "outputs": [
    {
     "data": {
      "text/html": [
       "<div>\n",
       "<style scoped>\n",
       "    .dataframe tbody tr th:only-of-type {\n",
       "        vertical-align: middle;\n",
       "    }\n",
       "\n",
       "    .dataframe tbody tr th {\n",
       "        vertical-align: top;\n",
       "    }\n",
       "\n",
       "    .dataframe thead th {\n",
       "        text-align: right;\n",
       "    }\n",
       "</style>\n",
       "<table border=\"1\" class=\"dataframe\">\n",
       "  <thead>\n",
       "    <tr style=\"text-align: right;\">\n",
       "      <th></th>\n",
       "      <th>Chemical Name</th>\n",
       "      <th>Original CAS</th>\n",
       "      <th>Chemical Purpose</th>\n",
       "      <th>Product Function</th>\n",
       "      <th>CAS</th>\n",
       "      <th>Usage</th>\n",
       "    </tr>\n",
       "  </thead>\n",
       "  <tbody>\n",
       "    <tr>\n",
       "      <th>1</th>\n",
       "      <td>Hydrochloric Acid</td>\n",
       "      <td>007647-01-0</td>\n",
       "      <td>Helps  dissolve minerals and initiate cracks i...</td>\n",
       "      <td>Acid</td>\n",
       "      <td>7647010</td>\n",
       "      <td>Fracking</td>\n",
       "    </tr>\n",
       "    <tr>\n",
       "      <th>3</th>\n",
       "      <td>Glutaraldehyde</td>\n",
       "      <td>000111-30-8</td>\n",
       "      <td>Eliminates  bacteria in the water that produce...</td>\n",
       "      <td>Biocide</td>\n",
       "      <td>111308</td>\n",
       "      <td>Fracking</td>\n",
       "    </tr>\n",
       "    <tr>\n",
       "      <th>4</th>\n",
       "      <td>Quaternary Ammonium Chloride</td>\n",
       "      <td>012125-02-9</td>\n",
       "      <td>Eliminates  bacteria in the water that produce...</td>\n",
       "      <td>Biocide</td>\n",
       "      <td>12125029</td>\n",
       "      <td>Fracking</td>\n",
       "    </tr>\n",
       "    <tr>\n",
       "      <th>5</th>\n",
       "      <td>Quaternary Ammonium Chloride</td>\n",
       "      <td>061789-71-1</td>\n",
       "      <td>Eliminates  bacteria in the water that produce...</td>\n",
       "      <td>Biocide</td>\n",
       "      <td>61789711</td>\n",
       "      <td>Fracking</td>\n",
       "    </tr>\n",
       "    <tr>\n",
       "      <th>6</th>\n",
       "      <td>Tetrakis Hydroxymethyl-Phosphonium Sulfate</td>\n",
       "      <td>055566-30-8</td>\n",
       "      <td>Eliminates  bacteria in the water that produce...</td>\n",
       "      <td>Biocide</td>\n",
       "      <td>55566308</td>\n",
       "      <td>Fracking</td>\n",
       "    </tr>\n",
       "  </tbody>\n",
       "</table>\n",
       "</div>"
      ],
      "text/plain": [
       "                                Chemical Name Original CAS  \\\n",
       "1                           Hydrochloric Acid  007647-01-0   \n",
       "3                              Glutaraldehyde  000111-30-8   \n",
       "4                Quaternary Ammonium Chloride  012125-02-9   \n",
       "5                Quaternary Ammonium Chloride  061789-71-1   \n",
       "6  Tetrakis Hydroxymethyl-Phosphonium Sulfate  055566-30-8   \n",
       "\n",
       "                                    Chemical Purpose Product Function  \\\n",
       "1  Helps  dissolve minerals and initiate cracks i...             Acid   \n",
       "3  Eliminates  bacteria in the water that produce...          Biocide   \n",
       "4  Eliminates  bacteria in the water that produce...          Biocide   \n",
       "5  Eliminates  bacteria in the water that produce...          Biocide   \n",
       "6  Eliminates  bacteria in the water that produce...          Biocide   \n",
       "\n",
       "        CAS     Usage  \n",
       "1   7647010  Fracking  \n",
       "3    111308  Fracking  \n",
       "4  12125029  Fracking  \n",
       "5  61789711  Fracking  \n",
       "6  55566308  Fracking  "
      ]
     },
     "execution_count": 306,
     "metadata": {},
     "output_type": "execute_result"
    }
   ],
   "source": [
    "hydraulic_pure.loc[:,1]=(hydraulic_pure['CAS']).str.lstrip('0').replace('-','',regex=True)  #\n",
    "hydraulic_pure.loc[:,'Usage']='Fracking' # add a new column\n",
    "hydraulic_pure.columns=['Chemical Name','Original CAS','Chemical Purpose','Product Function','CAS','Usage']\n",
    "\n",
    "hydraulic_pure.head()"
   ]
  },
  {
   "cell_type": "markdown",
   "metadata": {},
   "source": [
    "# Now we have two tables, hydraulic_pure and human_health_df which have a common identifier, CAS.  We can do some joining \n",
    "## Executing an inner join yields no common chemicals, which is kind of disturbing.  What is signifies is that none of the chemicals used in fracking are tested for in drinking water, not even methanol, CH4.  Of course things can vary, but a no set in this case is signifcant.  So, the generated set here will be an outer join that assures that we have all data merged together, and that is what we will send to MONGODB."
   ]
  },
  {
   "cell_type": "code",
   "execution_count": 307,
   "metadata": {},
   "outputs": [
    {
     "data": {
      "text/html": [
       "<div>\n",
       "<style scoped>\n",
       "    .dataframe tbody tr th:only-of-type {\n",
       "        vertical-align: middle;\n",
       "    }\n",
       "\n",
       "    .dataframe tbody tr th {\n",
       "        vertical-align: top;\n",
       "    }\n",
       "\n",
       "    .dataframe thead th {\n",
       "        text-align: right;\n",
       "    }\n",
       "</style>\n",
       "<table border=\"1\" class=\"dataframe\">\n",
       "  <thead>\n",
       "    <tr style=\"text-align: right;\">\n",
       "      <th></th>\n",
       "      <th>Pollutant</th>\n",
       "      <th>CAS</th>\n",
       "      <th>Human Health for the consumption of Water + Organism (µg/L)</th>\n",
       "      <th>Human Health for the consumption of Organism Only (µg/L)</th>\n",
       "      <th>Publication Year</th>\n",
       "      <th>Notes</th>\n",
       "      <th>Usage_x</th>\n",
       "      <th>Chemical Name</th>\n",
       "      <th>Original CAS</th>\n",
       "      <th>Chemical Purpose</th>\n",
       "      <th>Product Function</th>\n",
       "      <th>Usage_y</th>\n",
       "    </tr>\n",
       "  </thead>\n",
       "  <tbody>\n",
       "    <tr>\n",
       "      <th>0</th>\n",
       "      <td>Acrolein (P)</td>\n",
       "      <td>107028</td>\n",
       "      <td>3</td>\n",
       "      <td>400</td>\n",
       "      <td>2015</td>\n",
       "      <td>NaN</td>\n",
       "      <td>Water Testing</td>\n",
       "      <td>NaN</td>\n",
       "      <td>NaN</td>\n",
       "      <td>NaN</td>\n",
       "      <td>NaN</td>\n",
       "      <td>NaN</td>\n",
       "    </tr>\n",
       "    <tr>\n",
       "      <th>1</th>\n",
       "      <td>Acrylonitrile (P)</td>\n",
       "      <td>107131</td>\n",
       "      <td>0.061</td>\n",
       "      <td>7.0</td>\n",
       "      <td>2015</td>\n",
       "      <td>This criterion is based on carcinogenicity of ...</td>\n",
       "      <td>Water Testing</td>\n",
       "      <td>NaN</td>\n",
       "      <td>NaN</td>\n",
       "      <td>NaN</td>\n",
       "      <td>NaN</td>\n",
       "      <td>NaN</td>\n",
       "    </tr>\n",
       "    <tr>\n",
       "      <th>2</th>\n",
       "      <td>Aldrin (P)</td>\n",
       "      <td>309002</td>\n",
       "      <td>0.00000077</td>\n",
       "      <td>0.00000077</td>\n",
       "      <td>2015</td>\n",
       "      <td>This criterion is based on carcinogenicity of ...</td>\n",
       "      <td>Water Testing</td>\n",
       "      <td>NaN</td>\n",
       "      <td>NaN</td>\n",
       "      <td>NaN</td>\n",
       "      <td>NaN</td>\n",
       "      <td>NaN</td>\n",
       "    </tr>\n",
       "    <tr>\n",
       "      <th>3</th>\n",
       "      <td>alpha-Hexachlorocyclohexane (HCH) (P)</td>\n",
       "      <td>319846</td>\n",
       "      <td>0.00036</td>\n",
       "      <td>0.00039</td>\n",
       "      <td>2015</td>\n",
       "      <td>This criterion is based on carcinogenicity of ...</td>\n",
       "      <td>Water Testing</td>\n",
       "      <td>NaN</td>\n",
       "      <td>NaN</td>\n",
       "      <td>NaN</td>\n",
       "      <td>NaN</td>\n",
       "      <td>NaN</td>\n",
       "    </tr>\n",
       "    <tr>\n",
       "      <th>4</th>\n",
       "      <td>alpha-Endosulfan (P)</td>\n",
       "      <td>959988</td>\n",
       "      <td>20</td>\n",
       "      <td>30</td>\n",
       "      <td>2015</td>\n",
       "      <td>NaN</td>\n",
       "      <td>Water Testing</td>\n",
       "      <td>NaN</td>\n",
       "      <td>NaN</td>\n",
       "      <td>NaN</td>\n",
       "      <td>NaN</td>\n",
       "      <td>NaN</td>\n",
       "    </tr>\n",
       "  </tbody>\n",
       "</table>\n",
       "</div>"
      ],
      "text/plain": [
       "                               Pollutant     CAS  \\\n",
       "0                           Acrolein (P)  107028   \n",
       "1                      Acrylonitrile (P)  107131   \n",
       "2                             Aldrin (P)  309002   \n",
       "3  alpha-Hexachlorocyclohexane (HCH) (P)  319846   \n",
       "4                   alpha-Endosulfan (P)  959988   \n",
       "\n",
       "  Human Health for the consumption of Water + Organism (µg/L)  \\\n",
       "0                                                  3            \n",
       "1                                              0.061            \n",
       "2                                         0.00000077            \n",
       "3                                            0.00036            \n",
       "4                                                 20            \n",
       "\n",
       "  Human Health for the consumption of Organism Only (µg/L) Publication Year  \\\n",
       "0                                                400                   2015   \n",
       "1                                                7.0                   2015   \n",
       "2                                         0.00000077                   2015   \n",
       "3                                            0.00039                   2015   \n",
       "4                                                 30                   2015   \n",
       "\n",
       "                                               Notes        Usage_x  \\\n",
       "0                                                NaN  Water Testing   \n",
       "1  This criterion is based on carcinogenicity of ...  Water Testing   \n",
       "2  This criterion is based on carcinogenicity of ...  Water Testing   \n",
       "3  This criterion is based on carcinogenicity of ...  Water Testing   \n",
       "4                                                NaN  Water Testing   \n",
       "\n",
       "  Chemical Name Original CAS Chemical Purpose Product Function Usage_y  \n",
       "0           NaN          NaN              NaN              NaN     NaN  \n",
       "1           NaN          NaN              NaN              NaN     NaN  \n",
       "2           NaN          NaN              NaN              NaN     NaN  \n",
       "3           NaN          NaN              NaN              NaN     NaN  \n",
       "4           NaN          NaN              NaN              NaN     NaN  "
      ]
     },
     "execution_count": 307,
     "metadata": {},
     "output_type": "execute_result"
    }
   ],
   "source": [
    "#reference with shorter names\n",
    "dfh=human_health_df\n",
    "dff=hydraulic_pure \n",
    "df=pd.merge(dfh, dff, on='CAS', how='outer')\n",
    "df.head()"
   ]
  },
  {
   "cell_type": "markdown",
   "metadata": {},
   "source": [
    "# Step 3 - Passing the data to a database.  This should be easy...let's hope so.  Above, I already have a named collection,in my water_db database."
   ]
  },
  {
   "cell_type": "code",
   "execution_count": 308,
   "metadata": {},
   "outputs": [
    {
     "data": {
      "text/plain": [
       "<pymongo.results.InsertManyResult at 0x1a15fc8f088>"
      ]
     },
     "execution_count": 308,
     "metadata": {},
     "output_type": "execute_result"
    }
   ],
   "source": [
    "from pymongo import MongoClient\n",
    "import pandas as pd\n",
    " \n",
    "\n",
    "data = df.to_dict(orient='records')  # Here's our added param..\n",
    "collection.drop() #clean things up before adding\n",
    "collection.insert_many(data)"
   ]
  },
  {
   "cell_type": "markdown",
   "metadata": {},
   "source": [
    "# CONCLUSION and COMMENT\n",
    "### This process is really straight forward and for us, was made more complicated by the fact that we also had a complex homework assignment to finish, which I, Kevin, gave priority. We could have chosen a topic a bit more straight forward, but we all agreed that whatever we do should have the possiblity of an added value.  In this case, the added value turned out to be that in our preliminary analysis there does not seem to be any testing of commonly used fracking chemicals in drinking water. That should be of considerable interest to people who have a water source above a frack zone.\n",
    "\n",
    "### Also, the use of MONGODB for this type of project is awesome.  All we had to do at the end was there lines of code, that could have been two...essentially one line of code if we don't clean house before committing. \n",
    "\n",
    "## That is efficient.\n",
    "\n",
    "#### In my opinon, this was a good project, but I think it should have been scheduled a bit differently.\n"
   ]
  },
  {
   "cell_type": "code",
   "execution_count": null,
   "metadata": {},
   "outputs": [],
   "source": []
  }
 ],
 "metadata": {
  "kernelspec": {
   "display_name": "Python 3",
   "language": "python",
   "name": "python3"
  },
  "language_info": {
   "codemirror_mode": {
    "name": "ipython",
    "version": 3
   },
   "file_extension": ".py",
   "mimetype": "text/x-python",
   "name": "python",
   "nbconvert_exporter": "python",
   "pygments_lexer": "ipython3",
   "version": "3.7.3"
  }
 },
 "nbformat": 4,
 "nbformat_minor": 4
}
